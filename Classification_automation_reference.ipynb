{
 "cells": [
  {
   "cell_type": "code",
   "execution_count": 1,
   "metadata": {},
   "outputs": [],
   "source": [
    "###Importing Library\n",
    "import pandas as pd\n",
    "import numpy as np\n",
    "import matplotlib.pyplot as plt\n",
    "import seaborn as sns\n",
    "import os\n",
    "import glob\n",
    "import warnings\n",
    "warnings.filterwarnings('ignore')\n",
    "from sklearn.model_selection import train_test_split\n",
    "from sklearn.metrics import classification_report, confusion_matrix,accuracy_score\n",
    "from sklearn.ensemble import RandomForestClassifier"
   ]
  },
  {
   "cell_type": "code",
   "execution_count": 4,
   "metadata": {},
   "outputs": [
    {
     "data": {
      "text/plain": [
       "['C:\\\\Users\\\\Abhinav\\\\Desktop\\\\Assignment\\\\Classification\\\\sample_data_purchase - Copy.csv',\n",
       " 'C:\\\\Users\\\\Abhinav\\\\Desktop\\\\Assignment\\\\Classification\\\\sample_data_purchase.csv']"
      ]
     },
     "execution_count": 4,
     "metadata": {},
     "output_type": "execute_result"
    }
   ],
   "source": [
    "path = 'C:\\\\Users\\\\Abhinav\\\\Desktop\\\\Assignment\\\\Classification'\n",
    "csv_files = glob.glob(os.path.join(path, \"*.csv\"))\n",
    "csv_files\n"
   ]
  },
  {
   "cell_type": "code",
   "execution_count": 10,
   "metadata": {},
   "outputs": [
    {
     "name": "stdout",
     "output_type": "stream",
     "text": [
      ".csv\n"
     ]
    },
    {
     "ename": "FileExistsError",
     "evalue": "[WinError 183] Cannot create a file when that file already exists: 'C:\\\\Users\\\\Abhinav\\\\Desktop\\\\Assignment\\\\Classification\\\\product_0'",
     "output_type": "error",
     "traceback": [
      "\u001b[1;31m---------------------------------------------------------------------------\u001b[0m",
      "\u001b[1;31mFileExistsError\u001b[0m                           Traceback (most recent call last)",
      "\u001b[1;32m<ipython-input-10-05f85d9d8175>\u001b[0m in \u001b[0;36m<module>\u001b[1;34m\u001b[0m\n\u001b[0;32m      6\u001b[0m \u001b[1;33m\u001b[0m\u001b[0m\n\u001b[0;32m      7\u001b[0m     \u001b[0mpath\u001b[0m\u001b[1;33m=\u001b[0m\u001b[0mos\u001b[0m\u001b[1;33m.\u001b[0m\u001b[0mpath\u001b[0m\u001b[1;33m.\u001b[0m\u001b[0mjoin\u001b[0m\u001b[1;33m(\u001b[0m\u001b[0mparent_dir\u001b[0m\u001b[1;33m,\u001b[0m\u001b[0mdirectory\u001b[0m\u001b[1;33m)\u001b[0m\u001b[1;33m\u001b[0m\u001b[1;33m\u001b[0m\u001b[0m\n\u001b[1;32m----> 8\u001b[1;33m     \u001b[0mos\u001b[0m\u001b[1;33m.\u001b[0m\u001b[0mmkdir\u001b[0m\u001b[1;33m(\u001b[0m\u001b[0mpath\u001b[0m\u001b[1;33m)\u001b[0m\u001b[1;33m\u001b[0m\u001b[1;33m\u001b[0m\u001b[0m\n\u001b[0m\u001b[0;32m      9\u001b[0m     \u001b[0mprint\u001b[0m\u001b[1;33m(\u001b[0m\u001b[1;34m\"Directory '% s' created\"\u001b[0m \u001b[1;33m%\u001b[0m \u001b[0mdirectory\u001b[0m\u001b[1;33m)\u001b[0m\u001b[1;33m\u001b[0m\u001b[1;33m\u001b[0m\u001b[0m\n\u001b[0;32m     10\u001b[0m \u001b[1;33m\u001b[0m\u001b[0m\n",
      "\u001b[1;31mFileExistsError\u001b[0m: [WinError 183] Cannot create a file when that file already exists: 'C:\\\\Users\\\\Abhinav\\\\Desktop\\\\Assignment\\\\Classification\\\\product_0'"
     ]
    }
   ],
   "source": [
    "#provide the path for the file to be loaded in dataframe \n",
    "for i in range(len(csv_files)):\n",
    "    print(csv_files[i][-4:])\n",
    "    parent_dir = \"C:\\\\Users\\\\Abhinav\\\\Desktop\\\\Assignment\\\\Classification\"\n",
    "    directory = 'product_'+str(i)\n",
    "    \n",
    "    path=os.path.join(parent_dir,directory)\n",
    "    os.mkdir(path)\n",
    "    print(\"Directory '% s' created\" % directory)\n",
    "    \n",
    "    df = pd.read_csv(csv_files[i])\n",
    "    df['Purchased'] = np.where(df.Purchased=='yes',1,0)\n",
    "\n",
    "    numerical_cols = df._get_numeric_data().columns \n",
    "\n",
    "    for col in numerical_cols:\n",
    "        sns.distplot(df[col],kde= False,  bins=30)\n",
    "        plt.savefig('{}\\\\Image_{}_{}.jpg'.format(path,col,i))\n",
    "        plt.show()\n",
    "        plt.close()\n",
    "    \n",
    "    categorical_columns = list(set(df.columns) - set(numerical_cols))\n",
    "    for col in categorical_columns:\n",
    "        plt.figure(figsize=(15,6))\n",
    "        sns.countplot(x=df[col])\n",
    "        plt.savefig('{}\\\\Image_{}_{}.jpg'.format(path,col,i))\n",
    "        plt.show\n",
    "        plt.close()\n",
    "        \n",
    "    \n",
    "    for col in categorical_columns:\n",
    "        df = pd.get_dummies(df,columns=[col],drop_first=True)\n",
    "    print(df.columns)\n",
    "\n",
    "   \n",
    "\n",
    "\n",
    "    columns_X=df.columns.difference(['Purchased'])\n",
    "    X = df[columns_X]\n",
    "    Y = df['Purchased']\n",
    "\n",
    "\n",
    "    X_train = X\n",
    "    Y_train = Y\n",
    "\n",
    "\n",
    "    seed =0\n",
    "\n",
    "    rf = RandomForestClassifier()\n",
    "    rf.fit(X_train,Y_train)\n",
    "    rf_predictions = rf.predict(X_train)\n",
    "\n",
    "    print(\"Accuracy score: {}\".format(accuracy_score(Y_train, rf_predictions)))\n",
    "    print(classification_report(Y_train, rf_predictions))\n",
    "    print(rf.feature_importances_)\n",
    "\n",
    "\n",
    "    name = \"Feature Importance\"\n",
    "    feature_imp = pd.Series(rf.feature_importances_,\n",
    "                            index=X.columns).sort_values(ascending=False)\n",
    "    plt.figure(figsize=(10,10))\n",
    "    sns.barplot(x=feature_imp, y=feature_imp.index)\n",
    "    plt.xlabel('Features_Importance_score \\n \\n Accuracy Score of this model is {}'.format(accuracy_score(Y_train, rf_predictions)))\n",
    "    plt.ylabel('Features')\n",
    "    plt.title(name)\n",
    "    plt.savefig('{}\\\\Feature_Importance_{}.jpg'.format(path,i))\n",
    "    plt.show()"
   ]
  }
 ],
 "metadata": {
  "kernelspec": {
   "display_name": "Python 3",
   "language": "python",
   "name": "python3"
  },
  "language_info": {
   "codemirror_mode": {
    "name": "ipython",
    "version": 3
   },
   "file_extension": ".py",
   "mimetype": "text/x-python",
   "name": "python",
   "nbconvert_exporter": "python",
   "pygments_lexer": "ipython3",
   "version": "3.7.4"
  }
 },
 "nbformat": 4,
 "nbformat_minor": 2
}
